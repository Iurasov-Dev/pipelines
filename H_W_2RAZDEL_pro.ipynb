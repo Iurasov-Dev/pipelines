{
 "cells": [
  {
   "cell_type": "markdown",
   "metadata": {},
   "source": [
    "__Задание__\n",
    "\n",
    "В рамках этого итогового задания мы будем прогнозировать сердечную недостаточность.\n",
    "\n",
    "Плана по выполнению задания не будет. \n",
    "Но есть несколько требований: \n",
    "\n",
    "- оберните весь конвейер преобразований в Pipeline\n",
    "\n",
    "- подберите оптимальный вариант прогнозной модели с помощью GridSearchCV\n",
    "\n",
    "- примените обученный на тренировочных данных конвейер к тестовым данным, никак не предобрабатывая их, а лишь загрузив из файла и отделив целевой признак от остальных\n",
    "\n",
    "- получите на тестовой части качество не ниже 0.87 по метрике ROCAUC\n",
    "\n",
    "Пояснение: если пропуски в новых данных и будут, то только в тех колонках, где они есть в тренировочной части."
   ]
  },
  {
   "cell_type": "code",
   "execution_count": null,
   "metadata": {},
   "outputs": [],
   "source": [
    "import pandas as pd\n",
    "import matplotlib.pyplot as plt\n",
    "import re\n",
    "import seaborn as sns\n",
    "import pandas as pd\n",
    "from scipy import stats\n",
    "import plotly.express as px\n",
    "from sklearn.model_selection import GridSearchCV\n",
    "from sklearn.preprocessing import StandardScaler, OneHotEncoder\n",
    "from sklearn.compose import ColumnTransformer\n",
    "from sklearn.linear_model import LogisticRegression\n",
    "from sklearn.tree import DecisionTreeClassifier\n",
    "from sklearn.metrics import roc_auc_score, classification_report\n",
    "from sklearn.pipeline import Pipeline\n",
    "from sklearn.impute import SimpleImputer\n",
    "from summarytools import dfSummary"
   ]
  },
  {
   "cell_type": "markdown",
   "metadata": {},
   "source": [
    "Загружаем данные обучающей выборки и проводим цикл анализа данных (EDA):"
   ]
  },
  {
   "cell_type": "code",
   "execution_count": null,
   "metadata": {},
   "outputs": [],
   "source": [
    "train = pd.read_csv('heart_adapt_train.csv')\n",
    "\n",
    "# Переименуем названия столбцов в соответствии с PEP8\n",
    "train.columns = [re.sub('(?<!^)(?=[A-Z])|[ ]', '_', i, count=1).lower() for i in train.columns]\n",
    "train.rename(columns={'s_t_slope': 'st_slope'}, inplace=True)\n",
    "train.sample(3)"
   ]
  },
  {
   "cell_type": "code",
   "execution_count": null,
   "metadata": {},
   "outputs": [],
   "source": [
    "# Возвращаем размерность\n",
    "train.shape"
   ]
  },
  {
   "cell_type": "markdown",
   "metadata": {},
   "source": [
    "- Данные представляют собой тренировочный набор информации о состоянии сердечно-сосудистой системы пациентов, который может быть использован для обучения моделей предсказания наличия ишемической болезни сердца.\n",
    "\n",
    "- Таргет heart_disease представляет собой бинарную или двухклассовую переменную, где 0 означает отсутствие сердечной недостаточности, а 1 означает наличие сердечной недостаточности.\n",
    "\n",
    "Таким образом, эта задача является задачей бинарной классификации."
   ]
  },
  {
   "cell_type": "markdown",
   "metadata": {},
   "source": [
    "DataFrame состоит из 12 столбцов, представляющих различные характеристики сердечно-сосудистого здоровья пациентов.\n",
    "\n",
    "   - Age: возраст пациента в годах.\n",
    "   - Sex: пол пациента (M - мужской, F - женский).\n",
    "   - ChestPainType: тип болей в груди пациента (NAP - типичная стенокардия, ASY - безболевая ишемия, TA - атипичная стенокардия, ATA - атипичная стенокардия может подразумевать более выраженные или отличительные характеристики данного состояния).\n",
    "   - RestingBP: артериальное давление пациента в состоянии покоя.\n",
    "   - Cholesterol: уровень холестерина в крови пациента в данном случае уровень холестерина измеряется в миллиграммах на децилитр (мг/дл)\n",
    "   - FastingBS: уровень глюкозы в крови пациента в состоянии голода (0 - норма, 1 - повышен).\n",
    "   - RestingECG: результат электрокардиографического исследования в состоянии покоя (Normal - нормальный, ST - наличие изменений сегмента ST изменения сегмента ST могут указывать на ишемию миокарда, LVH - Гипертрофия (увеличение размера) левого желудочка сердца может быть вызвана различными заболеваниями, такими как артериальная гипертензия, пороки сердца, кардиомиопатии и другими).\n",
    "   - MaxHR: максимальная частота сердечных сокращений пациента.\n",
    "   - ExerciseAngina: наличие или отсутствие стенокардии при физической нагрузке (Y - да, N - нет).\n",
    "   - Oldpeak: смещение сегмента ST во время нагрузочной пробы.\n",
    "   - ST_Slope: наклон сегмента ST во время нагрузочной пробы (Up - вверх, Flat - плоский, Down - вниз).\n",
    "   - HeartDisease: наличие или отсутствие ишемической болезни сердца (1 - есть, 0 - нет).\n",
    "\n",
    "Таким образом, данные представляют собой информацию о состоянии сердечно-сосудистой системы пациентов, которая может быть использована для анализа и построения моделей предсказания наличия ишемической болезни сердца."
   ]
  },
  {
   "cell_type": "code",
   "execution_count": null,
   "metadata": {},
   "outputs": [],
   "source": [
    "# Применим библиотеку dfSummary к датафрейму обучающей выборки\n",
    "dfSummary(train)"
   ]
  },
  {
   "cell_type": "code",
   "execution_count": null,
   "metadata": {},
   "outputs": [],
   "source": [
    "display(train.loc[train['resting_bp'].isna()]) # выводим строки, в которых есть пропущенные значения в столбце resting_bp:"
   ]
  },
  {
   "cell_type": "markdown",
   "metadata": {},
   "source": [
    "Заполним артериальное давление пациента медианой в соответствии с пояснением задания"
   ]
  },
  {
   "cell_type": "code",
   "execution_count": null,
   "metadata": {},
   "outputs": [],
   "source": [
    "train.resting_bp = train.resting_bp.fillna(train.resting_bp.median()) "
   ]
  },
  {
   "cell_type": "code",
   "execution_count": null,
   "metadata": {},
   "outputs": [],
   "source": [
    "display(train.loc[train['age'].isna()]) # выводим строки, в которых есть пропущенные значения в столбце age:"
   ]
  },
  {
   "cell_type": "code",
   "execution_count": null,
   "metadata": {},
   "outputs": [],
   "source": [
    "sns.histplot(train['age'], bins = 10)\n",
    "plt.title('Распределение возраста пациентов');"
   ]
  },
  {
   "cell_type": "code",
   "execution_count": null,
   "metadata": {},
   "outputs": [],
   "source": [
    "_, pvalue = stats.shapiro(train['age'])\n",
    "\n",
    "alpha = .05\n",
    "\n",
    "if pvalue < alpha:\n",
    "    print(f'P-value:{pvalue:.5f}. Нулевая гипотеза отвергается')\n",
    "else:\n",
    "    print(f'P-value:{pvalue:.5f}. Подтверждается нулевая гипотеза')"
   ]
  },
  {
   "cell_type": "code",
   "execution_count": null,
   "metadata": {},
   "outputs": [],
   "source": [
    "plt.figure(figsize=(14,6)) # Изменяем размер графика\n",
    "sns.boxplot(train); # Смотрим графики распределения для обучающей выборки"
   ]
  },
  {
   "cell_type": "markdown",
   "metadata": {},
   "source": [
    "Видим выбросы в столбце уровня холестерина в крови пациента, построим скетерплот для более детального анализа"
   ]
  },
  {
   "cell_type": "code",
   "execution_count": null,
   "metadata": {},
   "outputs": [],
   "source": [
    "# Создание графика рассеяния с линией тренда OLS\n",
    "fig = px.scatter(\n",
    "    train, \n",
    "    x=\"age\", \n",
    "    y=\"cholesterol\", \n",
    "    trendline=\"ols\",  # Добавление линии тренда OLS\n",
    "    color=\"sex\",  # Цвет для различия полов\n",
    "    title=\"Взаимосвязь между возрастом и уровнем холестерина\"\n",
    ")\n",
    "\n",
    "# Настройка подписей осей\n",
    "fig.update_layout(\n",
    "    xaxis_title=\"Возраст\",\n",
    "    yaxis_title=\"Уровень холестерина\",\n",
    "    legend_title=\"Пол\"\n",
    ")\n",
    "\n",
    "# Добавление аннотации (пример)\n",
    "highest_chol = train[train['cholesterol'] == train['cholesterol'].max()]\n",
    "fig.add_annotation(\n",
    "    x=highest_chol['age'].values[0],\n",
    "    y=highest_chol['cholesterol'].values[0],\n",
    "    text=\"Максимальный уровень холестерина\",\n",
    "    showarrow=True,\n",
    "    arrowhead=2,\n",
    "    ax=-40,  # Смещение по оси X\n",
    "    ay=-30,  # Смещение по оси Y\n",
    "    bgcolor=\"white\",\n",
    "    font=dict(size=14)\n",
    ")\n",
    "\n",
    "# Установка сетки для улучшения читаемости\n",
    "fig.update_xaxes(showgrid=True)\n",
    "fig.update_yaxes(showgrid=True)\n",
    "\n",
    "# Отображение графика\n",
    "fig.show()"
   ]
  },
  {
   "cell_type": "code",
   "execution_count": null,
   "metadata": {},
   "outputs": [],
   "source": [
    "display(train.loc[train['cholesterol'] == 603].head()) # отображаем информацию про cholesterol со значением 603 мг/дл\n",
    "display(train.loc[train['cholesterol'] == 529].head()) # отображаем информацию про cholesterol со значением 529 мг/дл\n",
    "display(train.loc[train['cholesterol'] == 518].head()) # отображаем информацию про cholesterol со значением 518 мг/дл\n",
    "display(train.loc[train['cholesterol'] == 491].head()) # отображаем информацию про cholesterol со значением 491 мг/дл"
   ]
  },
  {
   "cell_type": "markdown",
   "metadata": {},
   "source": [
    "Значение 603.0, 529.0, 518.0, 491.0 для столбца \"cholesterol\" выглядят как выбросы. Стандартное отклонение составляет 58.6, а диапазон от 85.0 до 603.0 достаточно велик, что указывает на наличие аномальных значений. Удалим их из датафрейма."
   ]
  },
  {
   "cell_type": "code",
   "execution_count": null,
   "metadata": {},
   "outputs": [],
   "source": [
    "train.drop(train[train['cholesterol'] == 603].index, inplace=True) # удаляем cholesterol со значением 603 мг/дл\n",
    "train.drop(train[train['cholesterol'] == 529].index, inplace=True) # удаляем cholesterol со значением 603 мг/дл\n",
    "train.drop(train[train['cholesterol'] == 518].index, inplace=True) # удаляем cholesterol со значением 603 мг/дл\n",
    "train.drop(train[train['cholesterol'] == 491].index, inplace=True) # удаляем cholesterol со значением 603 мг/дл"
   ]
  },
  {
   "cell_type": "code",
   "execution_count": null,
   "metadata": {},
   "outputs": [],
   "source": [
    "# Создание графика рассеяния с линией тренда LOWESS\n",
    "fig = px.scatter(\n",
    "    train, \n",
    "    x=\"age\", \n",
    "    y=\"max_hr\", \n",
    "    trendline=\"lowess\",  # Добавление линии тренда LOWESS\n",
    "    color=\"sex\",  # Использование цвета для различия полов\n",
    "    title=\"Взаимосвязь между возрастом и максимальной частотой сердечных сокращений пациента\"\n",
    ")\n",
    "\n",
    "# Настройка подписей осей\n",
    "fig.update_layout(\n",
    "    xaxis_title=\"Возраст\",\n",
    "    yaxis_title=\"Максимальная частота сердечных сокращений\",\n",
    "    legend_title=\"Пол\"\n",
    ")\n",
    "\n",
    "# Установка сетки для улучшения читаемости\n",
    "fig.update_xaxes(showgrid=True)\n",
    "fig.update_yaxes(showgrid=True)\n",
    "\n",
    "# Отображение графика\n",
    "fig.show()"
   ]
  },
  {
   "cell_type": "code",
   "execution_count": null,
   "metadata": {},
   "outputs": [],
   "source": [
    "# Создание графика рассеяния с регрессионной линией\n",
    "fig = px.scatter(\n",
    "    train, \n",
    "    x=\"age\", \n",
    "    y=\"resting_bp\", \n",
    "    color=\"sex\",  # Используем цвет для различия пола\n",
    "    title=\"Взаимосвязь между возрастом и артериальным давлением пациента в состоянии покоя\",\n",
    "    trendline=\"ols\"  # Добавление линии тренда\n",
    ")\n",
    "\n",
    "# Настройка подписей осей\n",
    "fig.update_layout(\n",
    "    xaxis_title=\"Возраст\",\n",
    "    yaxis_title=\"Артериальное давление в состоянии покоя\",\n",
    "    legend_title=\"Пол\"\n",
    ")\n",
    "\n",
    "# Установка сетки для улучшения читаемости\n",
    "fig.update_xaxes(showgrid=True)\n",
    "fig.update_yaxes(showgrid=True)\n",
    "\n",
    "# Отображение графика\n",
    "fig.show()"
   ]
  },
  {
   "cell_type": "code",
   "execution_count": null,
   "metadata": {},
   "outputs": [],
   "source": [
    "# Создание гистограммы\n",
    "fig = px.histogram(\n",
    "    train, \n",
    "    x=\"age\", \n",
    "    color=\"sex\", \n",
    "    pattern_shape=\"sex\", \n",
    "    title=\"Наличие ишемической болезни сердца у пациентов\"\n",
    ")\n",
    "\n",
    "# Настройка подписей осей\n",
    "fig.update_layout(\n",
    "    xaxis_title=\"Возраст\",\n",
    "    yaxis_title=\"Количество случаев\",\n",
    "    legend_title=\"Пол\"\n",
    ")\n",
    "\n",
    "# Добавление аннотации (пример, если вы знаете важные возрастные группы)\n",
    "fig.add_annotation(\n",
    "    x=58,\n",
    "    y=50,  # само значение нужно будет скорректировать\n",
    "    text=\"Высокий риск!\",\n",
    "    showarrow=True,\n",
    "    arrowhead=2,\n",
    "    ax=0,\n",
    "    ay=-40,\n",
    "    bgcolor=\"white\",\n",
    "    font=dict(size=14)\n",
    ")\n",
    "\n",
    "# Установка сетки\n",
    "fig.update_xaxes(showgrid=True)\n",
    "fig.update_yaxes(showgrid=True)\n",
    "\n",
    "# Отображение графика\n",
    "fig.show()"
   ]
  },
  {
   "cell_type": "code",
   "execution_count": null,
   "metadata": {},
   "outputs": [],
   "source": [
    "train.shape"
   ]
  },
  {
   "cell_type": "markdown",
   "metadata": {},
   "source": [
    "Загрузим тестовую выборку и переименуем названия столбцов в соответствии с PEP8"
   ]
  },
  {
   "cell_type": "code",
   "execution_count": null,
   "metadata": {},
   "outputs": [],
   "source": [
    "test = pd.read_csv('heart_adapt_test.csv')\n",
    "\n",
    "# Переименуем названия столбцов в соответствии с PEP8\n",
    "test.columns = [re.sub('(?<!^)(?=[A-Z])|[ ]', '_', i, count=1).lower() for i in test]\n",
    "test.rename(columns={'s_t_slope': 'st_slope'}, inplace=True)\n",
    "test.sample(3)"
   ]
  },
  {
   "cell_type": "code",
   "execution_count": null,
   "metadata": {},
   "outputs": [],
   "source": [
    "test.shape"
   ]
  },
  {
   "cell_type": "code",
   "execution_count": null,
   "metadata": {},
   "outputs": [],
   "source": [
    "# Определяем размер обучающей и тестовой выборок\n",
    "train_size = train.shape[0]  # Количество образцов в обучающей выборке\n",
    "test_size = test.shape[0]     # Количество образцов в тестовой выборке\n",
    "total_size = train_size + test_size  # Общий размер выборок\n",
    "\n",
    "# Рассчитываем процентное соотношение\n",
    "train_percentage = (train_size / total_size) * 100  # Процент обучающей выборки\n",
    "test_percentage = (test_size / total_size) * 100     # Процент тестовой выборки\n",
    "\n",
    "# Выводим результаты\n",
    "print(f\"Размер обучающей выборки: {train_size} ({train_percentage:.2f}%)\")\n",
    "print(f\"Размер тестовой выборки: {test_size} ({test_percentage:.2f}%)\")\n"
   ]
  },
  {
   "cell_type": "markdown",
   "metadata": {},
   "source": [
    "Отделяем признаки от таргета."
   ]
  },
  {
   "cell_type": "code",
   "execution_count": null,
   "metadata": {},
   "outputs": [],
   "source": [
    "# Определение целевой переменной и признаков\n",
    "train_target = train['heart_disease']\n",
    "train_features = train.drop(['heart_disease'], axis=1)\n",
    "test_target = test['heart_disease']\n",
    "test_features = test.drop(['heart_disease'], axis=1)"
   ]
  },
  {
   "cell_type": "code",
   "execution_count": null,
   "metadata": {},
   "outputs": [],
   "source": [
    "# Посмотрим на уникальные значения категориальных признаков\n",
    "for column in train.select_dtypes(include=['object']).columns:\n",
    "    print(f\"{column}:\", train[column].unique())"
   ]
  },
  {
   "cell_type": "code",
   "execution_count": null,
   "metadata": {},
   "outputs": [],
   "source": [
    "# Определение категориальных и числовых столбцов\n",
    "categorical_cols = train_features.select_dtypes(include=['object']).columns.tolist()\n",
    "numerical_cols = train_features.select_dtypes(exclude=['object']).columns.tolist()"
   ]
  },
  {
   "cell_type": "code",
   "execution_count": null,
   "metadata": {},
   "outputs": [],
   "source": [
    "# Создаем общий предобработчик с трансформерами для числовых и категориальных данных\n",
    "preprocessor = ColumnTransformer(\n",
    "    transformers=[\n",
    "        ('num', Pipeline(steps=[\n",
    "            ('imputer', SimpleImputer(strategy='median')),  # Заполнение пропусков\n",
    "            ('scaler', StandardScaler())  # Стандартизация числовых признаков\n",
    "        ]), numerical_cols),\n",
    "        ('cat', Pipeline(steps=[\n",
    "            ('imputer', SimpleImputer(strategy='most_frequent')),  # Заполнение пропусков для категориальных\n",
    "            ('ohe', OneHotEncoder(handle_unknown='ignore'))  # Одноразовое кодирование категориальных признаков\n",
    "        ]), categorical_cols)\n",
    "    ]\n",
    ")"
   ]
  },
  {
   "cell_type": "code",
   "execution_count": null,
   "metadata": {},
   "outputs": [],
   "source": [
    "# Теперь создаем полный пайплайн с классификаторами\n",
    "pipeline = Pipeline(steps=[\n",
    "    ('preprocessor', preprocessor),\n",
    "    ('classify', LogisticRegression(class_weight='balanced', random_state=0))\n",
    "])\n",
    "\n",
    "# Параметры для GridSearchCV\n",
    "params = [\n",
    "    {'classify': [LogisticRegression(class_weight='balanced', random_state=0)],\n",
    "     'classify__C': [0.01, 0.1, 1, 10, 100]},\n",
    "    {'classify': [DecisionTreeClassifier(class_weight='balanced', random_state=0)],\n",
    "     'classify__max_depth': [2, 5, 10, 20]},\n",
    "]\n",
    "\n",
    "# Поиск лучших гиперпараметров на тренировочных данных\n",
    "grid_search = GridSearchCV(pipeline, param_grid=params, cv=5, scoring='roc_auc')\n",
    "grid_search.fit(X=train_features, y=train_target)\n",
    "\n",
    "# Получаем информацию о наилучшей модели\n",
    "best_model = grid_search.best_estimator_\n",
    "best_params = grid_search.best_params_\n",
    "\n",
    "# Получаем предсказания меток классов и вероятностей на тестовых данных\n",
    "test_pred_proba = best_model.predict_proba(test_features)[:, 1]\n",
    "test_pred = best_model.predict(test_features)\n",
    "\n",
    "# Оценка качества модели на тестовой выборке\n",
    "roc_auc = roc_auc_score(test_target, test_pred_proba)\n",
    "\n",
    "# Выводим отчет о качестве классификации для лучшей модели\n",
    "print(\"Лучшие параметры модели:\")\n",
    "if isinstance(best_model.named_steps['classify'], LogisticRegression):\n",
    "    model_name = \"LogisticRegression\"\n",
    "    model_params = f\"Регуляризационный параметр модели: C = {best_params['classify__C']}\"\n",
    "elif isinstance(best_model.named_steps['classify'], DecisionTreeClassifier):\n",
    "    model_name = \"DecisionTreeClassifier\"\n",
    "    model_params = f\"max_depth = {best_params['classify__max_depth']}\"\n",
    "\n",
    "print(f\"Используемая модель: {model_name}\")\n",
    "print(model_params)\n",
    "# Выводим отчет о качестве классификации\n",
    "print(\"\\nОтчет о качестве классификации:\")\n",
    "print(classification_report(test_target, test_pred))\n",
    "\n",
    "# Вычисляем и выводим метрику ROC-AUC\n",
    "print(f\"\\nROC-AUC Score: {roc_auc:.2f}\")"
   ]
  },
  {
   "cell_type": "markdown",
   "metadata": {},
   "source": [
    "### Вывод:\n",
    "\n",
    "#### 1. Тип используемой модели:\n",
    "   - Примененная модель: Логистическая регрессия. Это популярный метод для бинарной классификации, который показывает хорошие результаты при наличии линейной зависимости между признаками.\n",
    "\n",
    "#### 2. Параметры модели:\n",
    "   - Использованные параметры: \n",
    "     - class_weight=balanced: Данный параметр помогает сбалансировать классы в случае, если они не равномерны, что улучшает общую производительность модели при работе с несбалансированными данными.\n",
    "     - random_state=0: Этот параметр обеспечивает воспроизводимость результатов, позволяя получать те же результаты при повторном обучении модели.\n",
    "\n",
    "   - Регуляризационный параметр (C = 0.1): Низкое значение C указывает на более сильную регуляризацию, что может помочь избежать переобучения, особенно если обучающая выборка содержит шум или много признаков.\n",
    "\n",
    "#### 3. Качество классификации:\n",
    "   - Precision (точность):\n",
    "     - Класс 0: 0.83\n",
    "     - Класс 1: 0.91\n",
    "\n",
    "     Высокий уровень точности для обоих классов указывает на то, что модель хорошо распознает положительные примеры (класс 1) и достаточно точно классифицирует отрицательные примеры (класс 0).\n",
    "\n",
    "   - Recall (полнота):\n",
    "     - Класс 0: 0.83\n",
    "     - Класс 1: 0.91\n",
    "\n",
    "     Значения полноты также высокие, что говорит о способности модели правильно находить объекты обоих классов.\n",
    "\n",
    "   - F1-score:\n",
    "     - Класс 0: 0.83\n",
    "     - Класс 1: 0.91\n",
    "\n",
    "     F1-score является сбалансированной мерой точности и полноты, и его высокие значения подтверждают общее хорошее качество классификации модели.\n",
    "\n",
    "   - Accuracy (точность): Общая точность модели составляет 88%, что является впечатляющим показателем.\n",
    "\n",
    "   - Средние показатели:\n",
    "     - Macro average: 0.87 (средние значения без учета дисбаланса классов)\n",
    "     - Weighted average: 0.88 (с учетом дисбаланса классов, взвешенный по количеству примеров в каждом классе)\n",
    "\n",
    "#### 4. ROC-AUC Score:\n",
    "   - Значение ROC-AUC составляет 0.91, что свидетельствует о том, что модель имеет отличные характеристики при различении классов. Это показатель указывает на высокую вероятность успешного различения положительных и отрицательных классов.\n",
    "\n",
    "#### <span style=\"color: orange; font-weight: bold;\">Заключение:</span>\n",
    "\n",
    "В целом, модель логистической регрессии с указанными параметрами демонстрирует хорошие результаты по всем метрикам. Применение параметров, таких как class_weight=balanced, помогает справиться с проблемами несбалансированных данных, а регуляризация с параметром C=0.1 эффективно контролирует переобучение. \n",
    "\n",
    "Рекомендуется продолжить тестирование модели на новых данных и, возможно, рассмотреть другие алгоритмы или настройки, чтобы увидеть, можно ли достичь еще лучших результатов."
   ]
  }
 ],
 "metadata": {
  "kernelspec": {
   "display_name": "base",
   "language": "python",
   "name": "python3"
  },
  "language_info": {
   "codemirror_mode": {
    "name": "ipython",
    "version": 3
   },
   "file_extension": ".py",
   "mimetype": "text/x-python",
   "name": "python",
   "nbconvert_exporter": "python",
   "pygments_lexer": "ipython3",
   "version": "3.11.7"
  }
 },
 "nbformat": 4,
 "nbformat_minor": 2
}
